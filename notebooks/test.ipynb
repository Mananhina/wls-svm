{
 "cells": [
  {
   "cell_type": "code",
   "execution_count": 1,
   "id": "bfaf3426-1088-4eff-8933-b13113da43ba",
   "metadata": {},
   "outputs": [],
   "source": [
    "import wls_svm"
   ]
  },
  {
   "cell_type": "code",
   "execution_count": null,
   "id": "2bb5f747-02f1-46df-b61b-686db4e14aee",
   "metadata": {},
   "outputs": [],
   "source": []
  },
  {
   "cell_type": "code",
   "execution_count": 3,
   "id": "45379e5e-c83e-4b36-9f9c-a9ef17e3383f",
   "metadata": {},
   "outputs": [],
   "source": [
    "from wls_svm.lssvm import LSSVM"
   ]
  },
  {
   "cell_type": "code",
   "execution_count": 4,
   "id": "9e2aafdf-b1a8-4b00-89a0-92a752ab8c79",
   "metadata": {},
   "outputs": [],
   "source": [
    "svm = LSSVM()"
   ]
  },
  {
   "cell_type": "code",
   "execution_count": 5,
   "id": "1ee17157-64ff-4214-b2cc-12e22b169772",
   "metadata": {},
   "outputs": [
    {
     "data": {
      "text/plain": [
       "<wls_svm.lssvm.LSSVM at 0x1f70e9b08d0>"
      ]
     },
     "execution_count": 5,
     "metadata": {},
     "output_type": "execute_result"
    }
   ],
   "source": [
    "svm"
   ]
  },
  {
   "cell_type": "code",
   "execution_count": 6,
   "id": "2fc31778-f6ce-4141-a057-8d4f2e5ca940",
   "metadata": {},
   "outputs": [],
   "source": [
    "svm.save()"
   ]
  },
  {
   "cell_type": "code",
   "execution_count": null,
   "id": "a83acf9c-5ebb-40a0-9758-67777dc7de9a",
   "metadata": {},
   "outputs": [],
   "source": []
  }
 ],
 "metadata": {
  "kernelspec": {
   "display_name": "Python (wls-svm)",
   "language": "python",
   "name": "wls_svm"
  },
  "language_info": {
   "codemirror_mode": {
    "name": "ipython",
    "version": 3
   },
   "file_extension": ".py",
   "mimetype": "text/x-python",
   "name": "python",
   "nbconvert_exporter": "python",
   "pygments_lexer": "ipython3",
   "version": "3.11.5"
  }
 },
 "nbformat": 4,
 "nbformat_minor": 5
}
